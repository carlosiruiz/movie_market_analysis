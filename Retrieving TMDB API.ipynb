{
 "cells": [
  {
   "cell_type": "code",
   "execution_count": 39,
   "metadata": {},
   "outputs": [],
   "source": [
    "my_key = \"afc7201593c1f2fc08c24eec64fabc88\"\n",
    "api_request = \"https://api.themoviedb.org/3/movie/550?api_key=afc7201593c1f2fc08c24eec64fabc88\""
   ]
  },
  {
   "cell_type": "code",
   "execution_count": 30,
   "metadata": {},
   "outputs": [],
   "source": [
    "#import libraries\n",
    "\n",
    "import pandas as pd\n",
    "import numpy as np\n",
    "import matplotlib.pyplot as plt\n",
    "import requests\n",
    "import json\n",
    "import seaborn as sns"
   ]
  },
  {
   "cell_type": "code",
   "execution_count": 31,
   "metadata": {},
   "outputs": [],
   "source": [
    "#iterate through 499 API requests. Each \"page\" contains 20 records. Records are stored in 'collected_data'\n",
    "#this cell takes approximately 5 minutes to run\n",
    "\n",
    "collected_data = []\n",
    "\n",
    "for i in range(1,500,1):\n",
    "    request_string = \"https://api.themoviedb.org/3/discover/movie?api_key=afc7201593c1f2fc08c24eec64fabc88&language=en-US&sort_by=revenue.desc&include_adult=false&include_video=false&primary_release_date.lte=2019-12-30&primary_release_date.gte=2000-01-01&page=\"+str(i)\n",
    "    data = requests.get(request_string)\n",
    "    data = data.json()['results']\n",
    "    for item in data:\n",
    "        collected_data.append(item)"
   ]
  },
  {
   "cell_type": "code",
   "execution_count": 32,
   "metadata": {},
   "outputs": [],
   "source": [
    "#load data into dataframe\n",
    "df = pd.DataFrame(collected_data)"
   ]
  },
  {
   "cell_type": "code",
   "execution_count": 35,
   "metadata": {},
   "outputs": [
    {
     "data": {
      "text/html": [
       "<div>\n",
       "<style scoped>\n",
       "    .dataframe tbody tr th:only-of-type {\n",
       "        vertical-align: middle;\n",
       "    }\n",
       "\n",
       "    .dataframe tbody tr th {\n",
       "        vertical-align: top;\n",
       "    }\n",
       "\n",
       "    .dataframe thead th {\n",
       "        text-align: right;\n",
       "    }\n",
       "</style>\n",
       "<table border=\"1\" class=\"dataframe\">\n",
       "  <thead>\n",
       "    <tr style=\"text-align: right;\">\n",
       "      <th></th>\n",
       "      <th>popularity</th>\n",
       "      <th>vote_count</th>\n",
       "      <th>video</th>\n",
       "      <th>poster_path</th>\n",
       "      <th>id</th>\n",
       "      <th>adult</th>\n",
       "      <th>backdrop_path</th>\n",
       "      <th>original_language</th>\n",
       "      <th>original_title</th>\n",
       "      <th>genre_ids</th>\n",
       "      <th>title</th>\n",
       "      <th>vote_average</th>\n",
       "      <th>overview</th>\n",
       "      <th>release_date</th>\n",
       "    </tr>\n",
       "  </thead>\n",
       "  <tbody>\n",
       "    <tr>\n",
       "      <th>0</th>\n",
       "      <td>40.636</td>\n",
       "      <td>14611</td>\n",
       "      <td>False</td>\n",
       "      <td>/or06FN3Dka5tukK1e9sl16pB3iy.jpg</td>\n",
       "      <td>299534</td>\n",
       "      <td>False</td>\n",
       "      <td>/orjiB3oUIsyz60hoEqkiGpy5CeO.jpg</td>\n",
       "      <td>en</td>\n",
       "      <td>Avengers: Endgame</td>\n",
       "      <td>[28, 12, 878]</td>\n",
       "      <td>Avengers: Endgame</td>\n",
       "      <td>8.3</td>\n",
       "      <td>After the devastating events of Avengers: Infi...</td>\n",
       "      <td>2019-04-24</td>\n",
       "    </tr>\n",
       "    <tr>\n",
       "      <th>1</th>\n",
       "      <td>36.426</td>\n",
       "      <td>21849</td>\n",
       "      <td>False</td>\n",
       "      <td>/6EiRUJpuoeQPghrs3YNktfnqOVh.jpg</td>\n",
       "      <td>19995</td>\n",
       "      <td>False</td>\n",
       "      <td>/bIL7ENqh1egWTxN41sM2W42JqPc.jpg</td>\n",
       "      <td>en</td>\n",
       "      <td>Avatar</td>\n",
       "      <td>[28, 12, 14, 878]</td>\n",
       "      <td>Avatar</td>\n",
       "      <td>7.4</td>\n",
       "      <td>In the 22nd century, a paraplegic Marine is di...</td>\n",
       "      <td>2009-12-10</td>\n",
       "    </tr>\n",
       "    <tr>\n",
       "      <th>2</th>\n",
       "      <td>31.247</td>\n",
       "      <td>14812</td>\n",
       "      <td>False</td>\n",
       "      <td>/wqnLdwVXoBjKibFRR5U3y0aDUhs.jpg</td>\n",
       "      <td>140607</td>\n",
       "      <td>False</td>\n",
       "      <td>/k6EOrckWFuz7I4z4wiRwz8zsj4H.jpg</td>\n",
       "      <td>en</td>\n",
       "      <td>Star Wars: The Force Awakens</td>\n",
       "      <td>[28, 12, 14, 878]</td>\n",
       "      <td>Star Wars: The Force Awakens</td>\n",
       "      <td>7.4</td>\n",
       "      <td>Thirty years after defeating the Galactic Empi...</td>\n",
       "      <td>2015-12-15</td>\n",
       "    </tr>\n",
       "    <tr>\n",
       "      <th>3</th>\n",
       "      <td>82.930</td>\n",
       "      <td>19327</td>\n",
       "      <td>False</td>\n",
       "      <td>/7WsyChQLEftFiDOVTGkv3hFpyyt.jpg</td>\n",
       "      <td>299536</td>\n",
       "      <td>False</td>\n",
       "      <td>/bOGkgRGdhrBYJSLpXaxhXVstddV.jpg</td>\n",
       "      <td>en</td>\n",
       "      <td>Avengers: Infinity War</td>\n",
       "      <td>[28, 12, 878]</td>\n",
       "      <td>Avengers: Infinity War</td>\n",
       "      <td>8.3</td>\n",
       "      <td>As the Avengers and their allies have continue...</td>\n",
       "      <td>2018-04-25</td>\n",
       "    </tr>\n",
       "    <tr>\n",
       "      <th>4</th>\n",
       "      <td>30.958</td>\n",
       "      <td>15896</td>\n",
       "      <td>False</td>\n",
       "      <td>/rhr4y79GpxQF9IsfJItRXVaoGs4.jpg</td>\n",
       "      <td>135397</td>\n",
       "      <td>False</td>\n",
       "      <td>/yOCRqvrRrxbs5FYq2pX1KtLJwmR.jpg</td>\n",
       "      <td>en</td>\n",
       "      <td>Jurassic World</td>\n",
       "      <td>[28, 12, 878, 53]</td>\n",
       "      <td>Jurassic World</td>\n",
       "      <td>6.6</td>\n",
       "      <td>Twenty-two years after the events of Jurassic ...</td>\n",
       "      <td>2015-06-06</td>\n",
       "    </tr>\n",
       "  </tbody>\n",
       "</table>\n",
       "</div>"
      ],
      "text/plain": [
       "   popularity  vote_count  video                       poster_path      id  \\\n",
       "0      40.636       14611  False  /or06FN3Dka5tukK1e9sl16pB3iy.jpg  299534   \n",
       "1      36.426       21849  False  /6EiRUJpuoeQPghrs3YNktfnqOVh.jpg   19995   \n",
       "2      31.247       14812  False  /wqnLdwVXoBjKibFRR5U3y0aDUhs.jpg  140607   \n",
       "3      82.930       19327  False  /7WsyChQLEftFiDOVTGkv3hFpyyt.jpg  299536   \n",
       "4      30.958       15896  False  /rhr4y79GpxQF9IsfJItRXVaoGs4.jpg  135397   \n",
       "\n",
       "   adult                     backdrop_path original_language  \\\n",
       "0  False  /orjiB3oUIsyz60hoEqkiGpy5CeO.jpg                en   \n",
       "1  False  /bIL7ENqh1egWTxN41sM2W42JqPc.jpg                en   \n",
       "2  False  /k6EOrckWFuz7I4z4wiRwz8zsj4H.jpg                en   \n",
       "3  False  /bOGkgRGdhrBYJSLpXaxhXVstddV.jpg                en   \n",
       "4  False  /yOCRqvrRrxbs5FYq2pX1KtLJwmR.jpg                en   \n",
       "\n",
       "                 original_title          genre_ids  \\\n",
       "0             Avengers: Endgame      [28, 12, 878]   \n",
       "1                        Avatar  [28, 12, 14, 878]   \n",
       "2  Star Wars: The Force Awakens  [28, 12, 14, 878]   \n",
       "3        Avengers: Infinity War      [28, 12, 878]   \n",
       "4                Jurassic World  [28, 12, 878, 53]   \n",
       "\n",
       "                          title  vote_average  \\\n",
       "0             Avengers: Endgame           8.3   \n",
       "1                        Avatar           7.4   \n",
       "2  Star Wars: The Force Awakens           7.4   \n",
       "3        Avengers: Infinity War           8.3   \n",
       "4                Jurassic World           6.6   \n",
       "\n",
       "                                            overview release_date  \n",
       "0  After the devastating events of Avengers: Infi...   2019-04-24  \n",
       "1  In the 22nd century, a paraplegic Marine is di...   2009-12-10  \n",
       "2  Thirty years after defeating the Galactic Empi...   2015-12-15  \n",
       "3  As the Avengers and their allies have continue...   2018-04-25  \n",
       "4  Twenty-two years after the events of Jurassic ...   2015-06-06  "
      ]
     },
     "execution_count": 35,
     "metadata": {},
     "output_type": "execute_result"
    }
   ],
   "source": [
    "#open dataframe to review returned columns.\n",
    "df.head()"
   ]
  },
  {
   "cell_type": "code",
   "execution_count": 36,
   "metadata": {},
   "outputs": [],
   "source": [
    "#using the 'discover' API is great for pulling summary data for a list of movies.\n",
    "#however, it does not pull all the information that TMDB has on any particular movie\n",
    "#primarily, the 'discover' API is missing budget, revenue, imdb_id, and runtime\n",
    "#these can be pulled from the 'movie' API call. this cell prepares for the next for loop to pull this required data\n",
    "budget = []\n",
    "imdb_id = []\n",
    "revenue = []\n",
    "runtime = []\n",
    "production_companies = []\n",
    "production_countries = []\n",
    "genres = []"
   ]
  },
  {
   "cell_type": "code",
   "execution_count": 37,
   "metadata": {},
   "outputs": [],
   "source": [
    "#create a list of tmdb-movie-ids to iterate through. each id will be used in its own API call\n",
    "movie_ids = list(df['id'])"
   ]
  },
  {
   "cell_type": "code",
   "execution_count": 38,
   "metadata": {},
   "outputs": [],
   "source": [
    "#for each movie_id defined above, call API to to retrieve budget, revenue, imdb_id, runtime.\n",
    "#tmdb data structure isn't uniform. movie dictionaries do not necessarily have all keys.\n",
    "#to get around this, we used try/except\n",
    "#this cell takes about 30 minutes to run\n",
    "\n",
    "for movie_id in movie_ids:\n",
    "    request_string = \"https://api.themoviedb.org/3/movie/\"+str(movie_id)+\"?api_key=afc7201593c1f2fc08c24eec64fabc88&language=en-US\"\n",
    "    data = requests.get(request_string)\n",
    "    data = data.json()\n",
    "    try:\n",
    "        budget.append(data['budget'])\n",
    "    except:\n",
    "        budget.append(\" \")\n",
    "    try:\n",
    "        imdb_id.append(data['imdb_id'])\n",
    "    except:\n",
    "        imdb_id.append(\" \")\n",
    "    try:\n",
    "        revenue.append(data['revenue'])\n",
    "    except:\n",
    "        revenue.append(\" \")\n",
    "    try:\n",
    "        runtime.append(data['runtime'])\n",
    "    except:\n",
    "        runtime.append(\" \")\n",
    "    try:\n",
    "        production_companies.append(data['production_companies'])\n",
    "    except:\n",
    "        production_companies.append(\" \")\n",
    "    try:\n",
    "        production_countries.append(data['production_countries'])\n",
    "    except:\n",
    "        production_countries.append(\" \")\n",
    "    try:\n",
    "        genres.append(data['genres'])\n",
    "    except:\n",
    "        genres.append(\" \")"
   ]
  },
  {
   "cell_type": "code",
   "execution_count": 39,
   "metadata": {},
   "outputs": [],
   "source": [
    "#set new df columns equal to the lists created above.\n",
    "df['budget'] = budget\n",
    "df['imdb_id'] = imdb_id\n",
    "df['revenue'] = revenue\n",
    "df['runtime'] = runtime\n",
    "df['production_companies'] = production_companies\n",
    "df['production_countries'] = production_countries\n",
    "df['genres'] = genres"
   ]
  },
  {
   "cell_type": "code",
   "execution_count": 52,
   "metadata": {},
   "outputs": [],
   "source": [
    "to_drop = df[(df['budget']==0) | (df['revenue']==0)].index\n",
    "new_df = df.drop(to_drop)"
   ]
  },
  {
   "cell_type": "code",
   "execution_count": 55,
   "metadata": {},
   "outputs": [],
   "source": [
    "to_drop = new_df[(new_df['revenue']==\" \") | (new_df['revenue']==\"\") | (new_df['revenue']==\"nan\")].index\n",
    "new_df.drop(to_drop, inplace = True)"
   ]
  },
  {
   "cell_type": "code",
   "execution_count": 60,
   "metadata": {},
   "outputs": [],
   "source": [
    "#drop columns = ['poster_path' and 'backdrop_path']\n",
    "new_df.drop(['poster_path','backdrop_path'], axis = 1, inplace = True)"
   ]
  },
  {
   "cell_type": "code",
   "execution_count": 71,
   "metadata": {},
   "outputs": [],
   "source": [
    "#convert revenue to integer\n",
    "new_df['revenue'] = new_df['revenue'].astype(\"int64\")"
   ]
  },
  {
   "cell_type": "code",
   "execution_count": 72,
   "metadata": {},
   "outputs": [],
   "source": [
    "#convert budget to integer\n",
    "new_df['budget'] = new_df['budget'].astype(\"int64\")"
   ]
  },
  {
   "cell_type": "code",
   "execution_count": 79,
   "metadata": {},
   "outputs": [],
   "source": [
    "#save dataframe as csv\n",
    "new_df.to_csv('tmdb_data')"
   ]
  }
 ],
 "metadata": {
  "kernelspec": {
   "display_name": "Python 3",
   "language": "python",
   "name": "python3"
  },
  "language_info": {
   "codemirror_mode": {
    "name": "ipython",
    "version": 3
   },
   "file_extension": ".py",
   "mimetype": "text/x-python",
   "name": "python",
   "nbconvert_exporter": "python",
   "pygments_lexer": "ipython3",
   "version": "3.8.3"
  }
 },
 "nbformat": 4,
 "nbformat_minor": 4
}
