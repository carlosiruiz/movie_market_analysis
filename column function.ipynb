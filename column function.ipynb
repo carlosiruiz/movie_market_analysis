{
 "cells": [
  {
   "cell_type": "code",
   "execution_count": null,
   "metadata": {},
   "outputs": [],
   "source": [
    "\n",
    "def namefind(name,column):\n",
    "    \"\"\"\n",
    "   namefind(name_to_find, column_name)\n",
    "    \n",
    "    Namefind takes a name that you are trying to locate in the column specified dictionary and returns \n",
    "    the index of the dataframe that contains said name.\n",
    "    \n",
    "    \n",
    "    namefind('Comedy','genre')\n",
    "    \n",
    "    index                                                                   1\n",
    "    id                                                                   8844\n",
    "    title                                                             Jumanji\n",
    "    genres                                    [{'id': 12, 'name': 'Adventure'},\n",
    "                                                 {'id': 14, 'name': 'Fantasy'},\n",
    "                                               {'id': 10751, 'name': 'Family'}] \n",
    "    \"\"\"\n",
    "    loc_list=[]\n",
    "    for i in range(len(movies_md[column])):\n",
    "        for d in range(len(movies_md[column][i])):\n",
    "            if movies_md[column][i][d]['name']==test:\n",
    "                loc_list.append(i)\n",
    "    return(movies_md.loc[loc_list])"
   ]
  }
 ],
 "metadata": {
  "kernelspec": {
   "display_name": "Python 3",
   "language": "python",
   "name": "python3"
  },
  "language_info": {
   "codemirror_mode": {
    "name": "ipython",
    "version": 3
   },
   "file_extension": ".py",
   "mimetype": "text/x-python",
   "name": "python",
   "nbconvert_exporter": "python",
   "pygments_lexer": "ipython3",
   "version": "3.7.6"
  }
 },
 "nbformat": 4,
 "nbformat_minor": 4
}
