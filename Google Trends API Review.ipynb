{
 "cells": [
  {
   "cell_type": "code",
   "execution_count": 75,
   "metadata": {},
   "outputs": [
    {
     "name": "stdout",
     "output_type": "stream",
     "text": [
      "Requirement already satisfied: pytrends in /Users/alecmccabe/opt/anaconda3/lib/python3.8/site-packages (4.7.3)\n",
      "Requirement already satisfied: lxml in /Users/alecmccabe/opt/anaconda3/lib/python3.8/site-packages (from pytrends) (4.5.2)\n",
      "Requirement already satisfied: requests in /Users/alecmccabe/opt/anaconda3/lib/python3.8/site-packages (from pytrends) (2.24.0)\n",
      "Requirement already satisfied: pandas>=0.25 in /Users/alecmccabe/opt/anaconda3/lib/python3.8/site-packages (from pytrends) (1.0.5)\n",
      "Requirement already satisfied: certifi>=2017.4.17 in /Users/alecmccabe/opt/anaconda3/lib/python3.8/site-packages (from requests->pytrends) (2020.6.20)\n",
      "Requirement already satisfied: idna<3,>=2.5 in /Users/alecmccabe/opt/anaconda3/lib/python3.8/site-packages (from requests->pytrends) (2.10)\n",
      "Requirement already satisfied: chardet<4,>=3.0.2 in /Users/alecmccabe/opt/anaconda3/lib/python3.8/site-packages (from requests->pytrends) (3.0.4)\n",
      "Requirement already satisfied: urllib3!=1.25.0,!=1.25.1,<1.26,>=1.21.1 in /Users/alecmccabe/opt/anaconda3/lib/python3.8/site-packages (from requests->pytrends) (1.25.9)\n",
      "Requirement already satisfied: python-dateutil>=2.6.1 in /Users/alecmccabe/opt/anaconda3/lib/python3.8/site-packages (from pandas>=0.25->pytrends) (2.8.1)\n",
      "Requirement already satisfied: numpy>=1.13.3 in /Users/alecmccabe/opt/anaconda3/lib/python3.8/site-packages (from pandas>=0.25->pytrends) (1.18.5)\n",
      "Requirement already satisfied: pytz>=2017.2 in /Users/alecmccabe/opt/anaconda3/lib/python3.8/site-packages (from pandas>=0.25->pytrends) (2020.1)\n",
      "Requirement already satisfied: six>=1.5 in /Users/alecmccabe/opt/anaconda3/lib/python3.8/site-packages (from python-dateutil>=2.6.1->pandas>=0.25->pytrends) (1.15.0)\n"
     ]
    }
   ],
   "source": [
    "!pip install pytrends"
   ]
  },
  {
   "cell_type": "code",
   "execution_count": 76,
   "metadata": {},
   "outputs": [],
   "source": [
    "import pandas as pd                        \n",
    "import matplotlib.pyplot as plt\n",
    "from pytrends.request import TrendReq\n",
    "pytrend = TrendReq()\n",
    "%matplotlib inline"
   ]
  },
  {
   "cell_type": "code",
   "execution_count": 96,
   "metadata": {},
   "outputs": [],
   "source": [
    "pytrend.build_payload(kw_list=['The Joker imdb'])"
   ]
  },
  {
   "cell_type": "code",
   "execution_count": 97,
   "metadata": {},
   "outputs": [
    {
     "data": {
      "text/plain": [
       "932"
      ]
     },
     "execution_count": 97,
     "metadata": {},
     "output_type": "execute_result"
    }
   ],
   "source": [
    "df = pytrend.interest_over_time()\n",
    "df.reset_index(inplace = True)\n",
    "df['year'] = df['date'].dt.year\n",
    "df['month'] = df['date'].dt.month\n",
    "df['year_month'] = df['date'].dt.to_period('M')\n",
    "new_df = df.groupby(['year_month']).sum()\n",
    "new_df.drop(['year','month'], axis = 1, inplace = True)\n",
    "new_df['The Joker imdb'].sum()"
   ]
  },
  {
   "cell_type": "code",
   "execution_count": 98,
   "metadata": {},
   "outputs": [
    {
     "data": {
      "text/plain": [
       "<matplotlib.axes._subplots.AxesSubplot at 0x11f8db910>"
      ]
     },
     "execution_count": 98,
     "metadata": {},
     "output_type": "execute_result"
    },
    {
     "data": {
      "image/png": "[encoded data removed]",
      "text/plain": [
       "<Figure size 432x288 with 1 Axes>"
      ]
     },
     "metadata": {
      "needs_background": "light"
     },
     "output_type": "display_data"
    }
   ],
   "source": [
    "new_df.plot()"
   ]
  },
  {
   "cell_type": "code",
   "execution_count": 99,
   "metadata": {},
   "outputs": [
    {
     "data": {
      "text/html": [
       "<div>\n",
       "<style scoped>\n",
       "    .dataframe tbody tr th:only-of-type {\n",
       "        vertical-align: middle;\n",
       "    }\n",
       "\n",
       "    .dataframe tbody tr th {\n",
       "        vertical-align: top;\n",
       "    }\n",
       "\n",
       "    .dataframe thead th {\n",
       "        text-align: right;\n",
       "    }\n",
       "</style>\n",
       "<table border=\"1\" class=\"dataframe\">\n",
       "  <thead>\n",
       "    <tr style=\"text-align: right;\">\n",
       "      <th></th>\n",
       "      <th>The Joker imdb</th>\n",
       "    </tr>\n",
       "  </thead>\n",
       "  <tbody>\n",
       "    <tr>\n",
       "      <th>count</th>\n",
       "      <td>61.000000</td>\n",
       "    </tr>\n",
       "    <tr>\n",
       "      <th>mean</th>\n",
       "      <td>15.278689</td>\n",
       "    </tr>\n",
       "    <tr>\n",
       "      <th>std</th>\n",
       "      <td>30.925788</td>\n",
       "    </tr>\n",
       "    <tr>\n",
       "      <th>min</th>\n",
       "      <td>2.000000</td>\n",
       "    </tr>\n",
       "    <tr>\n",
       "      <th>25%</th>\n",
       "      <td>5.000000</td>\n",
       "    </tr>\n",
       "    <tr>\n",
       "      <th>50%</th>\n",
       "      <td>7.000000</td>\n",
       "    </tr>\n",
       "    <tr>\n",
       "      <th>75%</th>\n",
       "      <td>11.000000</td>\n",
       "    </tr>\n",
       "    <tr>\n",
       "      <th>max</th>\n",
       "      <td>210.000000</td>\n",
       "    </tr>\n",
       "  </tbody>\n",
       "</table>\n",
       "</div>"
      ],
      "text/plain": [
       "       The Joker imdb\n",
       "count       61.000000\n",
       "mean        15.278689\n",
       "std         30.925788\n",
       "min          2.000000\n",
       "25%          5.000000\n",
       "50%          7.000000\n",
       "75%         11.000000\n",
       "max        210.000000"
      ]
     },
     "execution_count": 99,
     "metadata": {},
     "output_type": "execute_result"
    }
   ],
   "source": [
    "new_df.describe()"
   ]
  },
  {
   "cell_type": "code",
   "execution_count": null,
   "metadata": {},
   "outputs": [],
   "source": []
  }
 ],
 "metadata": {
  "kernelspec": {
   "display_name": "Python 3",
   "language": "python",
   "name": "python3"
  },
  "language_info": {
   "codemirror_mode": {
    "name": "ipython",
    "version": 3
   },
   "file_extension": ".py",
   "mimetype": "text/x-python",
   "name": "python",
   "nbconvert_exporter": "python",
   "pygments_lexer": "ipython3",
   "version": "3.8.3"
  }
 },
 "nbformat": 4,
 "nbformat_minor": 4
}
