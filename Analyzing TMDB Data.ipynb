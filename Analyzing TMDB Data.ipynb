{
 "cells": [
  {
   "cell_type": "code",
   "execution_count": 2,
   "metadata": {},
   "outputs": [],
   "source": [
    "import pandas as pd\n",
    "import numpy as np\n",
    "import matplotlib.pyplot as plt\n",
    "import seaborn as sns\n",
    "%matplotlib inline"
   ]
  },
  {
   "cell_type": "code",
   "execution_count": 5,
   "metadata": {},
   "outputs": [
    {
     "data": {
      "text/html": [
       "<div>\n",
       "<style scoped>\n",
       "    .dataframe tbody tr th:only-of-type {\n",
       "        vertical-align: middle;\n",
       "    }\n",
       "\n",
       "    .dataframe tbody tr th {\n",
       "        vertical-align: top;\n",
       "    }\n",
       "\n",
       "    .dataframe thead th {\n",
       "        text-align: right;\n",
       "    }\n",
       "</style>\n",
       "<table border=\"1\" class=\"dataframe\">\n",
       "  <thead>\n",
       "    <tr style=\"text-align: right;\">\n",
       "      <th></th>\n",
       "      <th>popularity</th>\n",
       "      <th>vote_count</th>\n",
       "      <th>video</th>\n",
       "      <th>id</th>\n",
       "      <th>adult</th>\n",
       "      <th>original_language</th>\n",
       "      <th>original_title</th>\n",
       "      <th>genre_ids</th>\n",
       "      <th>title</th>\n",
       "      <th>vote_average</th>\n",
       "      <th>overview</th>\n",
       "      <th>release_date</th>\n",
       "      <th>budget</th>\n",
       "      <th>imdb_id</th>\n",
       "      <th>revenue</th>\n",
       "      <th>runtime</th>\n",
       "      <th>year</th>\n",
       "    </tr>\n",
       "  </thead>\n",
       "  <tbody>\n",
       "    <tr>\n",
       "      <th>0</th>\n",
       "      <td>39.595</td>\n",
       "      <td>14593</td>\n",
       "      <td>False</td>\n",
       "      <td>299534</td>\n",
       "      <td>False</td>\n",
       "      <td>en</td>\n",
       "      <td>Avengers: Endgame</td>\n",
       "      <td>[28, 12, 878]</td>\n",
       "      <td>Avengers: Endgame</td>\n",
       "      <td>8.3</td>\n",
       "      <td>After the devastating events of Avengers: Infi...</td>\n",
       "      <td>2019-04-24</td>\n",
       "      <td>356000000</td>\n",
       "      <td>tt4154796</td>\n",
       "      <td>2797800564</td>\n",
       "      <td>181</td>\n",
       "      <td>2019</td>\n",
       "    </tr>\n",
       "    <tr>\n",
       "      <th>1</th>\n",
       "      <td>34.817</td>\n",
       "      <td>21845</td>\n",
       "      <td>False</td>\n",
       "      <td>19995</td>\n",
       "      <td>False</td>\n",
       "      <td>en</td>\n",
       "      <td>Avatar</td>\n",
       "      <td>[28, 12, 14, 878]</td>\n",
       "      <td>Avatar</td>\n",
       "      <td>7.4</td>\n",
       "      <td>In the 22nd century, a paraplegic Marine is di...</td>\n",
       "      <td>2009-12-10</td>\n",
       "      <td>237000000</td>\n",
       "      <td>tt0499549</td>\n",
       "      <td>2787965087</td>\n",
       "      <td>162</td>\n",
       "      <td>2009</td>\n",
       "    </tr>\n",
       "    <tr>\n",
       "      <th>2</th>\n",
       "      <td>33.986</td>\n",
       "      <td>17508</td>\n",
       "      <td>False</td>\n",
       "      <td>597</td>\n",
       "      <td>False</td>\n",
       "      <td>en</td>\n",
       "      <td>Titanic</td>\n",
       "      <td>[18, 10749]</td>\n",
       "      <td>Titanic</td>\n",
       "      <td>7.8</td>\n",
       "      <td>101-year-old Rose DeWitt Bukater tells the sto...</td>\n",
       "      <td>1997-11-18</td>\n",
       "      <td>200000000</td>\n",
       "      <td>tt0120338</td>\n",
       "      <td>2187463944</td>\n",
       "      <td>194</td>\n",
       "      <td>1997</td>\n",
       "    </tr>\n",
       "    <tr>\n",
       "      <th>3</th>\n",
       "      <td>35.921</td>\n",
       "      <td>14810</td>\n",
       "      <td>False</td>\n",
       "      <td>140607</td>\n",
       "      <td>False</td>\n",
       "      <td>en</td>\n",
       "      <td>Star Wars: The Force Awakens</td>\n",
       "      <td>[28, 12, 14, 878]</td>\n",
       "      <td>Star Wars: The Force Awakens</td>\n",
       "      <td>7.4</td>\n",
       "      <td>Thirty years after defeating the Galactic Empi...</td>\n",
       "      <td>2015-12-15</td>\n",
       "      <td>245000000</td>\n",
       "      <td>tt2488496</td>\n",
       "      <td>2068223624</td>\n",
       "      <td>136</td>\n",
       "      <td>2015</td>\n",
       "    </tr>\n",
       "    <tr>\n",
       "      <th>4</th>\n",
       "      <td>93.400</td>\n",
       "      <td>19314</td>\n",
       "      <td>False</td>\n",
       "      <td>299536</td>\n",
       "      <td>False</td>\n",
       "      <td>en</td>\n",
       "      <td>Avengers: Infinity War</td>\n",
       "      <td>[28, 12, 878]</td>\n",
       "      <td>Avengers: Infinity War</td>\n",
       "      <td>8.3</td>\n",
       "      <td>As the Avengers and their allies have continue...</td>\n",
       "      <td>2018-04-25</td>\n",
       "      <td>300000000</td>\n",
       "      <td>tt4154756</td>\n",
       "      <td>2046239637</td>\n",
       "      <td>149</td>\n",
       "      <td>2018</td>\n",
       "    </tr>\n",
       "  </tbody>\n",
       "</table>\n",
       "</div>"
      ],
      "text/plain": [
       "   popularity  vote_count  video      id  adult original_language  \\\n",
       "0      39.595       14593  False  299534  False                en   \n",
       "1      34.817       21845  False   19995  False                en   \n",
       "2      33.986       17508  False     597  False                en   \n",
       "3      35.921       14810  False  140607  False                en   \n",
       "4      93.400       19314  False  299536  False                en   \n",
       "\n",
       "                 original_title          genre_ids  \\\n",
       "0             Avengers: Endgame      [28, 12, 878]   \n",
       "1                        Avatar  [28, 12, 14, 878]   \n",
       "2                       Titanic        [18, 10749]   \n",
       "3  Star Wars: The Force Awakens  [28, 12, 14, 878]   \n",
       "4        Avengers: Infinity War      [28, 12, 878]   \n",
       "\n",
       "                          title  vote_average  \\\n",
       "0             Avengers: Endgame           8.3   \n",
       "1                        Avatar           7.4   \n",
       "2                       Titanic           7.8   \n",
       "3  Star Wars: The Force Awakens           7.4   \n",
       "4        Avengers: Infinity War           8.3   \n",
       "\n",
       "                                            overview release_date     budget  \\\n",
       "0  After the devastating events of Avengers: Infi...   2019-04-24  356000000   \n",
       "1  In the 22nd century, a paraplegic Marine is di...   2009-12-10  237000000   \n",
       "2  101-year-old Rose DeWitt Bukater tells the sto...   1997-11-18  200000000   \n",
       "3  Thirty years after defeating the Galactic Empi...   2015-12-15  245000000   \n",
       "4  As the Avengers and their allies have continue...   2018-04-25  300000000   \n",
       "\n",
       "     imdb_id     revenue  runtime  year  \n",
       "0  tt4154796  2797800564      181  2019  \n",
       "1  tt0499549  2787965087      162  2009  \n",
       "2  tt0120338  2187463944      194  1997  \n",
       "3  tt2488496  2068223624      136  2015  \n",
       "4  tt4154756  2046239637      149  2018  "
      ]
     },
     "execution_count": 5,
     "metadata": {},
     "output_type": "execute_result"
    }
   ],
   "source": [
    "df = pd.read_csv('tmdb_data')\n",
    "df.drop('Unnamed: 0',axis=1,inplace=True)\n",
    "df.head()"
   ]
  },
  {
   "cell_type": "code",
   "execution_count": 38,
   "metadata": {},
   "outputs": [],
   "source": [
    "to_drop = df[df['genre_ids']==\"[]\"].index\n",
    "df.drop(to_drop,inplace = True)"
   ]
  },
  {
   "cell_type": "code",
   "execution_count": 49,
   "metadata": {},
   "outputs": [],
   "source": [
    "genre_col = list(df['genre_ids'])"
   ]
  },
  {
   "cell_type": "code",
   "execution_count": 52,
   "metadata": {},
   "outputs": [
    {
     "data": {
      "text/plain": [
       "['10402',\n",
       " '10749',\n",
       " '10751',\n",
       " '10752',\n",
       " '10770',\n",
       " '12',\n",
       " '14',\n",
       " '16',\n",
       " '18',\n",
       " '27',\n",
       " '28',\n",
       " '35',\n",
       " '36',\n",
       " '37',\n",
       " '53',\n",
       " '80',\n",
       " '878',\n",
       " '9648',\n",
       " '99']"
      ]
     },
     "execution_count": 52,
     "metadata": {},
     "output_type": "execute_result"
    }
   ],
   "source": [
    "unique_genres = []\n",
    "\n",
    "for genre_grp in genre_col:\n",
    "    grp_len = len(genre_grp)\n",
    "    genres = genre_grp[1:grp_len-1].split(', ')\n",
    "    for genre in genres:\n",
    "        unique_genres.append(genre)\n",
    "\n",
    "unique_genres = sorted(list(set(unique_genres)))\n",
    "unique_genres"
   ]
  },
  {
   "cell_type": "code",
   "execution_count": 56,
   "metadata": {},
   "outputs": [],
   "source": [
    "for gid in unique_genres:\n",
    "    new_col = 'genre: '+ gid\n",
    "    df[new_col] = df['genre_ids'].apply(lambda x: 1 if gid in x else 0)"
   ]
  },
  {
   "cell_type": "code",
   "execution_count": 67,
   "metadata": {},
   "outputs": [
    {
     "data": {
      "text/plain": [
       "Index(['popularity', 'vote_count', 'video', 'id', 'adult', 'original_language',\n",
       "       'original_title', 'genre_ids', 'title', 'vote_average', 'overview',\n",
       "       'release_date', 'budget', 'imdb_id', 'revenue', 'runtime', 'year',\n",
       "       'genre: 10402', 'genre: 10749', 'genre: 10751', 'genre: 10752',\n",
       "       'genre: 10770', 'genre: 12', 'genre: 14', 'genre: 16', 'genre: 18',\n",
       "       'genre: 27', 'genre: 28', 'genre: 35', 'genre: 36', 'genre: 37',\n",
       "       'genre: 53', 'genre: 80', 'genre: 878', 'genre: 9648', 'genre: 99'],\n",
       "      dtype='object')"
      ]
     },
     "execution_count": 67,
     "metadata": {},
     "output_type": "execute_result"
    }
   ],
   "source": [
    "df.columns"
   ]
  },
  {
   "cell_type": "code",
   "execution_count": 59,
   "metadata": {},
   "outputs": [],
   "source": [
    "year_groupby = df.groupby(['year']).sum()"
   ]
  },
  {
   "cell_type": "code",
   "execution_count": 64,
   "metadata": {},
   "outputs": [
    {
     "data": {
      "text/plain": [
       "[<matplotlib.lines.Line2D at 0x123301700>]"
      ]
     },
     "execution_count": 64,
     "metadata": {},
     "output_type": "execute_result"
    },
    {
     "data": {
      "image/png": "[encoded data removed]",
      "text/plain": [
       "<Figure size 432x288 with 1 Axes>"
      ]
     },
     "metadata": {
      "needs_background": "light"
     },
     "output_type": "display_data"
    }
   ],
   "source": [
    "plt.figure()\n",
    "\n",
    "x = year_groupby.index\n",
    "y1 = year_groupby['genre: 10402']\n",
    "y2 = year_groupby['genre: 10749']\n",
    "y3 = year_groupby['genre: 10751']\n",
    "y4 = year_groupby['genre: 10752']\n",
    "y5 = year_groupby['genre: 10770']\n",
    "y6 = year_groupby['genre: 12']\n",
    "y7 = year_groupby['genre: 14']\n",
    "y8 = year_groupby['genre: 16']\n",
    "y9 = year_groupby['genre: 18']\n",
    "y10 = year_groupby['genre: 27']\n",
    "y11 = year_groupby['genre: 28']\n",
    "y12 = year_groupby['genre: 35']\n",
    "y13 = year_groupby['genre: 36']\n",
    "y14 = year_groupby['genre: 37']\n",
    "y15 = year_groupby['genre: 53']\n",
    "y16 = year_groupby['genre: 80']\n",
    "y17 = year_groupby['genre: 878']\n",
    "y18 = year_groupby['genre: 9648']\n",
    "y19 = year_groupby['genre: 99']\n",
    "\n",
    "plt.plot(x,y1)\n",
    "plt.plot(x,y2)\n",
    "plt.plot(x,y3)\n",
    "plt.plot(x,y4)\n",
    "plt.plot(x,y5)\n",
    "plt.plot(x,y6)\n",
    "plt.plot(x,y7)\n",
    "plt.plot(x,y8)\n",
    "plt.plot(x,y9)\n",
    "plt.plot(x,y10)\n",
    "plt.plot(x,y11)\n",
    "plt.plot(x,y12)\n",
    "plt.plot(x,y13)\n",
    "plt.plot(x,y14)\n",
    "plt.plot(x,y15)\n",
    "plt.plot(x,y16)\n",
    "plt.plot(x,y17)\n",
    "plt.plot(x,y18)\n",
    "plt.plot(x,y19)\n",
    "plt.plot(x,y20)"
   ]
  },
  {
   "cell_type": "code",
   "execution_count": null,
   "metadata": {},
   "outputs": [],
   "source": []
  }
 ],
 "metadata": {
  "kernelspec": {
   "display_name": "Python 3",
   "language": "python",
   "name": "python3"
  },
  "language_info": {
   "codemirror_mode": {
    "name": "ipython",
    "version": 3
   },
   "file_extension": ".py",
   "mimetype": "text/x-python",
   "name": "python",
   "nbconvert_exporter": "python",
   "pygments_lexer": "ipython3",
   "version": "3.7.6"
  }
 },
 "nbformat": 4,
 "nbformat_minor": 4
}
