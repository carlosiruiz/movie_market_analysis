{
 "cells": [
  {
   "cell_type": "markdown",
   "metadata": {},
   "source": [
    "# movie_market_analysis\n",
    "\n",
    "#### Data Scientists:\n",
    "- Ignacio Ruiz\n",
    "- Alec McCabe\n",
    "\n",
    "#### Sources:\n",
    "- TMDB API (The Movie Database)\n",
    "- Netflix API\n",
    "\n",
    "\n",
    "## Introduction\n",
    "\n",
    "\n",
    "## Data Collection\n",
    "\n",
    "\n",
    "## Data Cleaning and Visualization\n",
    "\n",
    "\n",
    "\n",
    "## Conclusion / Recommendations\n"
   ]
  },
  {
   "cell_type": "code",
   "execution_count": null,
   "metadata": {},
   "outputs": [],
   "source": []
  }
 ],
 "metadata": {
  "kernelspec": {
   "display_name": "Python 3",
   "language": "python",
   "name": "python3"
  },
  "language_info": {
   "codemirror_mode": {
    "name": "ipython",
    "version": 3
   },
   "file_extension": ".py",
   "mimetype": "text/x-python",
   "name": "python",
   "nbconvert_exporter": "python",
   "pygments_lexer": "ipython3",
   "version": "3.8.3"
  }
 },
 "nbformat": 4,
 "nbformat_minor": 2
}
