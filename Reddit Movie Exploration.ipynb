{
 "cells": [
  {
   "cell_type": "code",
   "execution_count": 28,
   "metadata": {},
   "outputs": [],
   "source": [
    "client_id = 'YOZspDU65qKozA'\n",
    "client_secret = 'nqudoNJveXKjbMZJdLd1BFrbKeY'\n",
    "user_agent = 'eboard_prices'\n",
    "username = 'man_of_moose'\n",
    "password = 'mooseman'"
   ]
  },
  {
   "cell_type": "code",
   "execution_count": 29,
   "metadata": {},
   "outputs": [],
   "source": [
    "#! usr/bin/env python3\n",
    "import seaborn as sns\n",
    "import praw\n",
    "import pandas as pd\n",
    "import datetime as dt\n",
    "from datetime import datetime\n",
    "import matplotlib.pyplot as plt\n",
    "%matplotlib inline"
   ]
  },
  {
   "cell_type": "code",
   "execution_count": 30,
   "metadata": {},
   "outputs": [],
   "source": [
    "reddit = praw.Reddit(client_id= client_id, \n",
    "                     client_secret= client_secret, \n",
    "                     user_agent= user_agent,\n",
    "                     username= username,\n",
    "                     password= password)"
   ]
  },
  {
   "cell_type": "code",
   "execution_count": 31,
   "metadata": {},
   "outputs": [],
   "source": [
    "subreddit = reddit.subreddit('all')"
   ]
  },
  {
   "cell_type": "code",
   "execution_count": 32,
   "metadata": {},
   "outputs": [],
   "source": [
    "posts_dict = { \"title\":[],\n",
    "                \"score\":[],\n",
    "                \"id\":[], \n",
    "                \"comms_num\": [],\n",
    "                \"created_utc\":[],\n",
    "                \"subreddit\": []}"
   ]
  },
  {
   "cell_type": "code",
   "execution_count": 33,
   "metadata": {},
   "outputs": [],
   "source": [
    "for submission in subreddit.search('Avengers', limit=500):\n",
    "    posts_dict[\"title\"].append(submission.title)\n",
    "    posts_dict[\"score\"].append(submission.score)\n",
    "    posts_dict[\"id\"].append(submission.id)\n",
    "    posts_dict[\"comms_num\"].append(submission.num_comments)\n",
    "    posts_dict[\"created_utc\"].append(submission.created_utc)\n",
    "    posts_dict[\"subreddit\"].append(submission.subreddit)"
   ]
  },
  {
   "cell_type": "code",
   "execution_count": 34,
   "metadata": {},
   "outputs": [],
   "source": [
    "df = pd.DataFrame.from_dict(posts_dict, orient='index')\n",
    "df = df.transpose()"
   ]
  },
  {
   "cell_type": "code",
   "execution_count": 35,
   "metadata": {},
   "outputs": [
    {
     "data": {
      "text/html": [
       "<div>\n",
       "<style scoped>\n",
       "    .dataframe tbody tr th:only-of-type {\n",
       "        vertical-align: middle;\n",
       "    }\n",
       "\n",
       "    .dataframe tbody tr th {\n",
       "        vertical-align: top;\n",
       "    }\n",
       "\n",
       "    .dataframe thead th {\n",
       "        text-align: right;\n",
       "    }\n",
       "</style>\n",
       "<table border=\"1\" class=\"dataframe\">\n",
       "  <thead>\n",
       "    <tr style=\"text-align: right;\">\n",
       "      <th></th>\n",
       "      <th>title</th>\n",
       "      <th>score</th>\n",
       "      <th>id</th>\n",
       "      <th>comms_num</th>\n",
       "      <th>created_utc</th>\n",
       "      <th>subreddit</th>\n",
       "    </tr>\n",
       "  </thead>\n",
       "  <tbody>\n",
       "    <tr>\n",
       "      <th>0</th>\n",
       "      <td>Spider-Man exclusive to Playstation in the new...</td>\n",
       "      <td>25955</td>\n",
       "      <td>i30wxe</td>\n",
       "      <td>4431</td>\n",
       "      <td>1.59647e+09</td>\n",
       "      <td>xboxone</td>\n",
       "    </tr>\n",
       "    <tr>\n",
       "      <th>1</th>\n",
       "      <td>Let's boycott Avengers.</td>\n",
       "      <td>14788</td>\n",
       "      <td>i33em9</td>\n",
       "      <td>2558</td>\n",
       "      <td>1.59648e+09</td>\n",
       "      <td>xboxone</td>\n",
       "    </tr>\n",
       "    <tr>\n",
       "      <th>2</th>\n",
       "      <td>Spider-Man will be exclusive to Marvel’s Aveng...</td>\n",
       "      <td>9735</td>\n",
       "      <td>i30tbv</td>\n",
       "      <td>2627</td>\n",
       "      <td>1.59647e+09</td>\n",
       "      <td>Games</td>\n",
       "    </tr>\n",
       "    <tr>\n",
       "      <th>3</th>\n",
       "      <td>I’m not even that frustrated about the PS excl...</td>\n",
       "      <td>13702</td>\n",
       "      <td>i3su2h</td>\n",
       "      <td>1921</td>\n",
       "      <td>1.59658e+09</td>\n",
       "      <td>xboxone</td>\n",
       "    </tr>\n",
       "    <tr>\n",
       "      <th>4</th>\n",
       "      <td>Sony announces more \"Playstation advantages\" f...</td>\n",
       "      <td>6311</td>\n",
       "      <td>i3nis5</td>\n",
       "      <td>1499</td>\n",
       "      <td>1.59656e+09</td>\n",
       "      <td>pcgaming</td>\n",
       "    </tr>\n",
       "  </tbody>\n",
       "</table>\n",
       "</div>"
      ],
      "text/plain": [
       "                                               title  score      id comms_num  \\\n",
       "0  Spider-Man exclusive to Playstation in the new...  25955  i30wxe      4431   \n",
       "1                            Let's boycott Avengers.  14788  i33em9      2558   \n",
       "2  Spider-Man will be exclusive to Marvel’s Aveng...   9735  i30tbv      2627   \n",
       "3  I’m not even that frustrated about the PS excl...  13702  i3su2h      1921   \n",
       "4  Sony announces more \"Playstation advantages\" f...   6311  i3nis5      1499   \n",
       "\n",
       "   created_utc subreddit  \n",
       "0  1.59647e+09   xboxone  \n",
       "1  1.59648e+09   xboxone  \n",
       "2  1.59647e+09     Games  \n",
       "3  1.59658e+09   xboxone  \n",
       "4  1.59656e+09  pcgaming  "
      ]
     },
     "execution_count": 35,
     "metadata": {},
     "output_type": "execute_result"
    }
   ],
   "source": [
    "df.head()"
   ]
  },
  {
   "cell_type": "code",
   "execution_count": 36,
   "metadata": {},
   "outputs": [],
   "source": [
    "df['created_utc']=(pd.to_datetime(df['created_utc'],unit='s'))\n",
    "df['created_utc'] = df['created_utc'].astype('str')\n",
    "df['post_month'] = df['created_utc'].apply(lambda x: x[0:7])"
   ]
  },
  {
   "cell_type": "code",
   "execution_count": 37,
   "metadata": {},
   "outputs": [
    {
     "data": {
      "text/plain": [
       "2020-08    167\n",
       "2020-07     66\n",
       "2020-06     10\n",
       "2020-05      3\n",
       "2020-04      2\n",
       "Name: post_month, dtype: int64"
      ]
     },
     "execution_count": 37,
     "metadata": {},
     "output_type": "execute_result"
    }
   ],
   "source": [
    "df['post_month'].value_counts()"
   ]
  },
  {
   "cell_type": "code",
   "execution_count": null,
   "metadata": {},
   "outputs": [],
   "source": []
  }
 ],
 "metadata": {
  "kernelspec": {
   "display_name": "Python 3",
   "language": "python",
   "name": "python3"
  },
  "language_info": {
   "codemirror_mode": {
    "name": "ipython",
    "version": 3
   },
   "file_extension": ".py",
   "mimetype": "text/x-python",
   "name": "python",
   "nbconvert_exporter": "python",
   "pygments_lexer": "ipython3",
   "version": "3.8.3"
  }
 },
 "nbformat": 4,
 "nbformat_minor": 4
}
