{
 "cells": [
  {
   "cell_type": "markdown",
   "metadata": {},
   "source": [
    "# Netflix Unofficial API to DB"
   ]
  },
  {
   "cell_type": "code",
   "execution_count": 6,
   "metadata": {},
   "outputs": [],
   "source": [
    "#importing necessary libraries.\n",
    "import pandas as pd\n",
    "import numpy as np\n",
    "import requests\n",
    "import json\n"
   ]
  },
  {
   "cell_type": "code",
   "execution_count": 7,
   "metadata": {},
   "outputs": [],
   "source": [
    "#importing API with key.\n",
    "\n",
    "url = \"https://netflix-unofficial.p.rapidapi.com/api/search\"\n",
    "\n",
    "headers = {\n",
    "    'x-rapidapi-host': \"netflix-unofficial.p.rapidapi.com\",\n",
    "    'x-rapidapi-key': \"fae2b3dc60msh3d3991c8f65638dp10deafjsnb1920fbb0349\"\n",
    "    }\n",
    "\n",
    "response = requests.request(\"GET\", url, headers=headers)\n",
    "\n",
    "\n"
   ]
  },
  {
   "cell_type": "code",
   "execution_count": 8,
   "metadata": {},
   "outputs": [],
   "source": [
    "#loading responce into JSON.\n",
    "response_json = json.loads(response.text)"
   ]
  },
  {
   "cell_type": "code",
   "execution_count": 9,
   "metadata": {},
   "outputs": [
    {
     "data": {
      "text/html": [
       "<div>\n",
       "<style scoped>\n",
       "    .dataframe tbody tr th:only-of-type {\n",
       "        vertical-align: middle;\n",
       "    }\n",
       "\n",
       "    .dataframe tbody tr th {\n",
       "        vertical-align: top;\n",
       "    }\n",
       "\n",
       "    .dataframe thead th {\n",
       "        text-align: right;\n",
       "    }\n",
       "</style>\n",
       "<table border=\"1\" class=\"dataframe\">\n",
       "  <thead>\n",
       "    <tr style=\"text-align: right;\">\n",
       "      <th></th>\n",
       "      <th>0</th>\n",
       "    </tr>\n",
       "  </thead>\n",
       "  <tbody>\n",
       "    <tr>\n",
       "      <th></th>\n",
       "      <td>{\"time\":0,\"year\":\"\",\"genre\":\"\",\"director\":\"\",\"...</td>\n",
       "    </tr>\n",
       "    <tr>\n",
       "      <th>#AnneFrank - Parallel Stories</th>\n",
       "      <td>{\"time\":95,\"year\":\"2019\",\"genre\":\"Documentarie...</td>\n",
       "    </tr>\n",
       "    <tr>\n",
       "      <th>#FriendButMarried</th>\n",
       "      <td>{\"time\":102,\"year\":\"2018\",\"genre\":\"Dramas, Int...</td>\n",
       "    </tr>\n",
       "    <tr>\n",
       "      <th>#FriendButMarried 2</th>\n",
       "      <td>{\"time\":104,\"year\":\"2020\",\"genre\":\"Dramas, Int...</td>\n",
       "    </tr>\n",
       "    <tr>\n",
       "      <th>#Rucker50</th>\n",
       "      <td>{\"time\":56,\"year\":\"2016\",\"genre\":\"Documentarie...</td>\n",
       "    </tr>\n",
       "  </tbody>\n",
       "</table>\n",
       "</div>"
      ],
      "text/plain": [
       "                                                                               0\n",
       "                               {\"time\":0,\"year\":\"\",\"genre\":\"\",\"director\":\"\",\"...\n",
       "#AnneFrank - Parallel Stories  {\"time\":95,\"year\":\"2019\",\"genre\":\"Documentarie...\n",
       "#FriendButMarried              {\"time\":102,\"year\":\"2018\",\"genre\":\"Dramas, Int...\n",
       "#FriendButMarried 2            {\"time\":104,\"year\":\"2020\",\"genre\":\"Dramas, Int...\n",
       "#Rucker50                      {\"time\":56,\"year\":\"2016\",\"genre\":\"Documentarie..."
      ]
     },
     "execution_count": 9,
     "metadata": {},
     "output_type": "execute_result"
    }
   ],
   "source": [
    "#creating the raw file DataFrame to clean data with.\n",
    "netflix_rf = pd.DataFrame.from_dict(response_json, orient='index')\n",
    "netflix_rf.head()"
   ]
  },
  {
   "cell_type": "code",
   "execution_count": 10,
   "metadata": {},
   "outputs": [],
   "source": [
    "#creating an index for the dataframe.\n",
    "netflix_rf.reset_index(inplace=True)"
   ]
  },
  {
   "cell_type": "code",
   "execution_count": 11,
   "metadata": {},
   "outputs": [],
   "source": [
    "columns= [eval(key) for key in netflix_rf[0]] #transforming the strings and creating a list of dictionaries.\n",
    "netflix_df= pd.DataFrame.from_dict(columns) # finally creating the dataframe with the data collecting."
   ]
  },
  {
   "cell_type": "code",
   "execution_count": 12,
   "metadata": {},
   "outputs": [],
   "source": [
    "netflix_df['names']=netflix_rf['index']# adding the names of the movies from the raw file."
   ]
  },
  {
   "cell_type": "code",
   "execution_count": 13,
   "metadata": {},
   "outputs": [
    {
     "data": {
      "text/html": [
       "<div>\n",
       "<style scoped>\n",
       "    .dataframe tbody tr th:only-of-type {\n",
       "        vertical-align: middle;\n",
       "    }\n",
       "\n",
       "    .dataframe tbody tr th {\n",
       "        vertical-align: top;\n",
       "    }\n",
       "\n",
       "    .dataframe thead th {\n",
       "        text-align: right;\n",
       "    }\n",
       "</style>\n",
       "<table border=\"1\" class=\"dataframe\">\n",
       "  <thead>\n",
       "    <tr style=\"text-align: right;\">\n",
       "      <th></th>\n",
       "      <th>time</th>\n",
       "      <th>year</th>\n",
       "      <th>genre</th>\n",
       "      <th>director</th>\n",
       "      <th>actors</th>\n",
       "      <th>country</th>\n",
       "      <th>rating</th>\n",
       "      <th>netflix</th>\n",
       "      <th>enter_in</th>\n",
       "      <th>names</th>\n",
       "    </tr>\n",
       "  </thead>\n",
       "  <tbody>\n",
       "    <tr>\n",
       "      <th>0</th>\n",
       "      <td>0</td>\n",
       "      <td></td>\n",
       "      <td></td>\n",
       "      <td></td>\n",
       "      <td></td>\n",
       "      <td></td>\n",
       "      <td>0</td>\n",
       "      <td></td>\n",
       "      <td></td>\n",
       "      <td></td>\n",
       "    </tr>\n",
       "    <tr>\n",
       "      <th>1</th>\n",
       "      <td>95</td>\n",
       "      <td>2019</td>\n",
       "      <td>Documentaries, International Movies</td>\n",
       "      <td>Sabina Fedeli, Anna Migotto</td>\n",
       "      <td>Helen Mirren, Gengher Gatti</td>\n",
       "      <td></td>\n",
       "      <td>7.0</td>\n",
       "      <td>https:\\/\\/www.netflix.com\\/br-en\\/title\\/81264660</td>\n",
       "      <td>July 1, 2020</td>\n",
       "      <td>#AnneFrank - Parallel Stories</td>\n",
       "    </tr>\n",
       "    <tr>\n",
       "      <th>2</th>\n",
       "      <td>102</td>\n",
       "      <td>2018</td>\n",
       "      <td>Dramas, International Movies, Romantic Movies</td>\n",
       "      <td>Rako Prijanto</td>\n",
       "      <td>Adipati Dolken, Vanesha Prescilla, Rendi Jhon,...</td>\n",
       "      <td>Indonesia</td>\n",
       "      <td>7.0</td>\n",
       "      <td>https:\\/\\/www.netflix.com\\/br-en\\/title\\/81260630</td>\n",
       "      <td>May 21, 2020</td>\n",
       "      <td>#FriendButMarried</td>\n",
       "    </tr>\n",
       "    <tr>\n",
       "      <th>3</th>\n",
       "      <td>104</td>\n",
       "      <td>2020</td>\n",
       "      <td>Dramas, International Movies, Romantic Movies</td>\n",
       "      <td>Rako Prijanto</td>\n",
       "      <td>Adipati Dolken, Mawar de Jongh, Sari Nila, Von...</td>\n",
       "      <td></td>\n",
       "      <td>6.4</td>\n",
       "      <td>https:\\/\\/www.netflix.com\\/br-en\\/title\\/81260637</td>\n",
       "      <td>June 28, 2020</td>\n",
       "      <td>#FriendButMarried 2</td>\n",
       "    </tr>\n",
       "    <tr>\n",
       "      <th>4</th>\n",
       "      <td>56</td>\n",
       "      <td>2016</td>\n",
       "      <td>Documentaries, Sports Movies</td>\n",
       "      <td>Robert McCullough Jr.</td>\n",
       "      <td></td>\n",
       "      <td>United States</td>\n",
       "      <td>5.3</td>\n",
       "      <td>https:\\/\\/www.netflix.com\\/br-en\\/title\\/80147908</td>\n",
       "      <td>December 1, 2016</td>\n",
       "      <td>#Rucker50</td>\n",
       "    </tr>\n",
       "  </tbody>\n",
       "</table>\n",
       "</div>"
      ],
      "text/plain": [
       "   time  year                                          genre  \\\n",
       "0     0                                                        \n",
       "1    95  2019            Documentaries, International Movies   \n",
       "2   102  2018  Dramas, International Movies, Romantic Movies   \n",
       "3   104  2020  Dramas, International Movies, Romantic Movies   \n",
       "4    56  2016                   Documentaries, Sports Movies   \n",
       "\n",
       "                      director  \\\n",
       "0                                \n",
       "1  Sabina Fedeli, Anna Migotto   \n",
       "2                Rako Prijanto   \n",
       "3                Rako Prijanto   \n",
       "4        Robert McCullough Jr.   \n",
       "\n",
       "                                              actors        country rating  \\\n",
       "0                                                                        0   \n",
       "1                        Helen Mirren, Gengher Gatti                   7.0   \n",
       "2  Adipati Dolken, Vanesha Prescilla, Rendi Jhon,...      Indonesia    7.0   \n",
       "3  Adipati Dolken, Mawar de Jongh, Sari Nila, Von...                   6.4   \n",
       "4                                                     United States    5.3   \n",
       "\n",
       "                                             netflix          enter_in  \\\n",
       "0                                                                        \n",
       "1  https:\\/\\/www.netflix.com\\/br-en\\/title\\/81264660      July 1, 2020   \n",
       "2  https:\\/\\/www.netflix.com\\/br-en\\/title\\/81260630      May 21, 2020   \n",
       "3  https:\\/\\/www.netflix.com\\/br-en\\/title\\/81260637     June 28, 2020   \n",
       "4  https:\\/\\/www.netflix.com\\/br-en\\/title\\/80147908  December 1, 2016   \n",
       "\n",
       "                           names  \n",
       "0                                 \n",
       "1  #AnneFrank - Parallel Stories  \n",
       "2              #FriendButMarried  \n",
       "3            #FriendButMarried 2  \n",
       "4                      #Rucker50  "
      ]
     },
     "execution_count": 13,
     "metadata": {},
     "output_type": "execute_result"
    }
   ],
   "source": [
    "netflix_df.head()"
   ]
  },
  {
   "cell_type": "code",
   "execution_count": 14,
   "metadata": {},
   "outputs": [],
   "source": [
    "netflix_df.drop(netflix_df.loc[0][0],axis='index',inplace=True)#Removing uncessesary first row"
   ]
  },
  {
   "cell_type": "code",
   "execution_count": 15,
   "metadata": {},
   "outputs": [],
   "source": [
    "#Finally organizing the columns acorrdingly to set up our final DataFrame\n",
    "cols = netflix_df.columns.tolist()\n",
    "cols = cols[-1:] + cols[:-1]\n",
    "netflix_df = netflix_df[cols]"
   ]
  },
  {
   "cell_type": "code",
   "execution_count": 16,
   "metadata": {},
   "outputs": [],
   "source": [
    "#netflix_df.reset_index(inplace=True)"
   ]
  },
  {
   "cell_type": "code",
   "execution_count": 17,
   "metadata": {},
   "outputs": [
    {
     "data": {
      "text/html": [
       "<div>\n",
       "<style scoped>\n",
       "    .dataframe tbody tr th:only-of-type {\n",
       "        vertical-align: middle;\n",
       "    }\n",
       "\n",
       "    .dataframe tbody tr th {\n",
       "        vertical-align: top;\n",
       "    }\n",
       "\n",
       "    .dataframe thead th {\n",
       "        text-align: right;\n",
       "    }\n",
       "</style>\n",
       "<table border=\"1\" class=\"dataframe\">\n",
       "  <thead>\n",
       "    <tr style=\"text-align: right;\">\n",
       "      <th></th>\n",
       "      <th>names</th>\n",
       "      <th>time</th>\n",
       "      <th>year</th>\n",
       "      <th>genre</th>\n",
       "      <th>director</th>\n",
       "      <th>actors</th>\n",
       "      <th>country</th>\n",
       "      <th>rating</th>\n",
       "      <th>netflix</th>\n",
       "      <th>enter_in</th>\n",
       "    </tr>\n",
       "  </thead>\n",
       "  <tbody>\n",
       "    <tr>\n",
       "      <th>1</th>\n",
       "      <td>#AnneFrank - Parallel Stories</td>\n",
       "      <td>95</td>\n",
       "      <td>2019</td>\n",
       "      <td>Documentaries, International Movies</td>\n",
       "      <td>Sabina Fedeli, Anna Migotto</td>\n",
       "      <td>Helen Mirren, Gengher Gatti</td>\n",
       "      <td></td>\n",
       "      <td>7.0</td>\n",
       "      <td>https:\\/\\/www.netflix.com\\/br-en\\/title\\/81264660</td>\n",
       "      <td>July 1, 2020</td>\n",
       "    </tr>\n",
       "    <tr>\n",
       "      <th>2</th>\n",
       "      <td>#FriendButMarried</td>\n",
       "      <td>102</td>\n",
       "      <td>2018</td>\n",
       "      <td>Dramas, International Movies, Romantic Movies</td>\n",
       "      <td>Rako Prijanto</td>\n",
       "      <td>Adipati Dolken, Vanesha Prescilla, Rendi Jhon,...</td>\n",
       "      <td>Indonesia</td>\n",
       "      <td>7.0</td>\n",
       "      <td>https:\\/\\/www.netflix.com\\/br-en\\/title\\/81260630</td>\n",
       "      <td>May 21, 2020</td>\n",
       "    </tr>\n",
       "    <tr>\n",
       "      <th>3</th>\n",
       "      <td>#FriendButMarried 2</td>\n",
       "      <td>104</td>\n",
       "      <td>2020</td>\n",
       "      <td>Dramas, International Movies, Romantic Movies</td>\n",
       "      <td>Rako Prijanto</td>\n",
       "      <td>Adipati Dolken, Mawar de Jongh, Sari Nila, Von...</td>\n",
       "      <td></td>\n",
       "      <td>6.4</td>\n",
       "      <td>https:\\/\\/www.netflix.com\\/br-en\\/title\\/81260637</td>\n",
       "      <td>June 28, 2020</td>\n",
       "    </tr>\n",
       "    <tr>\n",
       "      <th>4</th>\n",
       "      <td>#Rucker50</td>\n",
       "      <td>56</td>\n",
       "      <td>2016</td>\n",
       "      <td>Documentaries, Sports Movies</td>\n",
       "      <td>Robert McCullough Jr.</td>\n",
       "      <td></td>\n",
       "      <td>United States</td>\n",
       "      <td>5.3</td>\n",
       "      <td>https:\\/\\/www.netflix.com\\/br-en\\/title\\/80147908</td>\n",
       "      <td>December 1, 2016</td>\n",
       "    </tr>\n",
       "    <tr>\n",
       "      <th>5</th>\n",
       "      <td>#Selfie</td>\n",
       "      <td>125</td>\n",
       "      <td>2014</td>\n",
       "      <td>Comedies, Dramas, International Movies</td>\n",
       "      <td>Cristina Jacob</td>\n",
       "      <td>Flavia Hojda, Crina Semciuc, Olimpia Melinte, ...</td>\n",
       "      <td>Romania</td>\n",
       "      <td>6.1</td>\n",
       "      <td>https:\\/\\/www.netflix.com\\/br-en\\/title\\/81092768</td>\n",
       "      <td>June 1, 2019</td>\n",
       "    </tr>\n",
       "  </tbody>\n",
       "</table>\n",
       "</div>"
      ],
      "text/plain": [
       "                           names  time  year  \\\n",
       "1  #AnneFrank - Parallel Stories    95  2019   \n",
       "2              #FriendButMarried   102  2018   \n",
       "3            #FriendButMarried 2   104  2020   \n",
       "4                      #Rucker50    56  2016   \n",
       "5                        #Selfie   125  2014   \n",
       "\n",
       "                                           genre                     director  \\\n",
       "1            Documentaries, International Movies  Sabina Fedeli, Anna Migotto   \n",
       "2  Dramas, International Movies, Romantic Movies                Rako Prijanto   \n",
       "3  Dramas, International Movies, Romantic Movies                Rako Prijanto   \n",
       "4                   Documentaries, Sports Movies        Robert McCullough Jr.   \n",
       "5         Comedies, Dramas, International Movies               Cristina Jacob   \n",
       "\n",
       "                                              actors        country rating  \\\n",
       "1                        Helen Mirren, Gengher Gatti                   7.0   \n",
       "2  Adipati Dolken, Vanesha Prescilla, Rendi Jhon,...      Indonesia    7.0   \n",
       "3  Adipati Dolken, Mawar de Jongh, Sari Nila, Von...                   6.4   \n",
       "4                                                     United States    5.3   \n",
       "5  Flavia Hojda, Crina Semciuc, Olimpia Melinte, ...        Romania    6.1   \n",
       "\n",
       "                                             netflix          enter_in  \n",
       "1  https:\\/\\/www.netflix.com\\/br-en\\/title\\/81264660      July 1, 2020  \n",
       "2  https:\\/\\/www.netflix.com\\/br-en\\/title\\/81260630      May 21, 2020  \n",
       "3  https:\\/\\/www.netflix.com\\/br-en\\/title\\/81260637     June 28, 2020  \n",
       "4  https:\\/\\/www.netflix.com\\/br-en\\/title\\/80147908  December 1, 2016  \n",
       "5  https:\\/\\/www.netflix.com\\/br-en\\/title\\/81092768      June 1, 2019  "
      ]
     },
     "execution_count": 17,
     "metadata": {},
     "output_type": "execute_result"
    }
   ],
   "source": [
    "netflix_df.head()"
   ]
  },
  {
   "cell_type": "code",
   "execution_count": 18,
   "metadata": {},
   "outputs": [
    {
     "ename": "FileNotFoundError",
     "evalue": "[Errno 2] No such file or directory: 'Movie_Data/netflix.csv'",
     "output_type": "error",
     "traceback": [
      "\u001b[0;31m---------------------------------------------------------------------------\u001b[0m",
      "\u001b[0;31mFileNotFoundError\u001b[0m                         Traceback (most recent call last)",
      "\u001b[0;32m<ipython-input-18-fea1474dbf1e>\u001b[0m in \u001b[0;36m<module>\u001b[0;34m\u001b[0m\n\u001b[0;32m----> 1\u001b[0;31m \u001b[0mnetflix_df\u001b[0m\u001b[0;34m.\u001b[0m\u001b[0mto_csv\u001b[0m\u001b[0;34m(\u001b[0m\u001b[0;34m'Movie_Data/netflix.csv'\u001b[0m\u001b[0;34m,\u001b[0m \u001b[0mindex\u001b[0m\u001b[0;34m=\u001b[0m\u001b[0;32mFalse\u001b[0m\u001b[0;34m)\u001b[0m\u001b[0;31m#exported CSV file.\u001b[0m\u001b[0;34m\u001b[0m\u001b[0;34m\u001b[0m\u001b[0m\n\u001b[0m",
      "\u001b[0;32m~/opt/anaconda3/lib/python3.7/site-packages/pandas/core/generic.py\u001b[0m in \u001b[0;36mto_csv\u001b[0;34m(self, path_or_buf, sep, na_rep, float_format, columns, header, index, index_label, mode, encoding, compression, quoting, quotechar, line_terminator, chunksize, date_format, doublequote, escapechar, decimal)\u001b[0m\n\u001b[1;32m   3202\u001b[0m             \u001b[0mdecimal\u001b[0m\u001b[0;34m=\u001b[0m\u001b[0mdecimal\u001b[0m\u001b[0;34m,\u001b[0m\u001b[0;34m\u001b[0m\u001b[0;34m\u001b[0m\u001b[0m\n\u001b[1;32m   3203\u001b[0m         )\n\u001b[0;32m-> 3204\u001b[0;31m         \u001b[0mformatter\u001b[0m\u001b[0;34m.\u001b[0m\u001b[0msave\u001b[0m\u001b[0;34m(\u001b[0m\u001b[0;34m)\u001b[0m\u001b[0;34m\u001b[0m\u001b[0;34m\u001b[0m\u001b[0m\n\u001b[0m\u001b[1;32m   3205\u001b[0m \u001b[0;34m\u001b[0m\u001b[0m\n\u001b[1;32m   3206\u001b[0m         \u001b[0;32mif\u001b[0m \u001b[0mpath_or_buf\u001b[0m \u001b[0;32mis\u001b[0m \u001b[0;32mNone\u001b[0m\u001b[0;34m:\u001b[0m\u001b[0;34m\u001b[0m\u001b[0;34m\u001b[0m\u001b[0m\n",
      "\u001b[0;32m~/opt/anaconda3/lib/python3.7/site-packages/pandas/io/formats/csvs.py\u001b[0m in \u001b[0;36msave\u001b[0;34m(self)\u001b[0m\n\u001b[1;32m    186\u001b[0m                 \u001b[0mself\u001b[0m\u001b[0;34m.\u001b[0m\u001b[0mmode\u001b[0m\u001b[0;34m,\u001b[0m\u001b[0;34m\u001b[0m\u001b[0;34m\u001b[0m\u001b[0m\n\u001b[1;32m    187\u001b[0m                 \u001b[0mencoding\u001b[0m\u001b[0;34m=\u001b[0m\u001b[0mself\u001b[0m\u001b[0;34m.\u001b[0m\u001b[0mencoding\u001b[0m\u001b[0;34m,\u001b[0m\u001b[0;34m\u001b[0m\u001b[0;34m\u001b[0m\u001b[0m\n\u001b[0;32m--> 188\u001b[0;31m                 \u001b[0mcompression\u001b[0m\u001b[0;34m=\u001b[0m\u001b[0mdict\u001b[0m\u001b[0;34m(\u001b[0m\u001b[0mself\u001b[0m\u001b[0;34m.\u001b[0m\u001b[0mcompression_args\u001b[0m\u001b[0;34m,\u001b[0m \u001b[0mmethod\u001b[0m\u001b[0;34m=\u001b[0m\u001b[0mself\u001b[0m\u001b[0;34m.\u001b[0m\u001b[0mcompression\u001b[0m\u001b[0;34m)\u001b[0m\u001b[0;34m,\u001b[0m\u001b[0;34m\u001b[0m\u001b[0;34m\u001b[0m\u001b[0m\n\u001b[0m\u001b[1;32m    189\u001b[0m             )\n\u001b[1;32m    190\u001b[0m             \u001b[0mclose\u001b[0m \u001b[0;34m=\u001b[0m \u001b[0;32mTrue\u001b[0m\u001b[0;34m\u001b[0m\u001b[0;34m\u001b[0m\u001b[0m\n",
      "\u001b[0;32m~/opt/anaconda3/lib/python3.7/site-packages/pandas/io/common.py\u001b[0m in \u001b[0;36mget_handle\u001b[0;34m(path_or_buf, mode, encoding, compression, memory_map, is_text)\u001b[0m\n\u001b[1;32m    426\u001b[0m         \u001b[0;32mif\u001b[0m \u001b[0mencoding\u001b[0m\u001b[0;34m:\u001b[0m\u001b[0;34m\u001b[0m\u001b[0;34m\u001b[0m\u001b[0m\n\u001b[1;32m    427\u001b[0m             \u001b[0;31m# Encoding\u001b[0m\u001b[0;34m\u001b[0m\u001b[0;34m\u001b[0m\u001b[0;34m\u001b[0m\u001b[0m\n\u001b[0;32m--> 428\u001b[0;31m             \u001b[0mf\u001b[0m \u001b[0;34m=\u001b[0m \u001b[0mopen\u001b[0m\u001b[0;34m(\u001b[0m\u001b[0mpath_or_buf\u001b[0m\u001b[0;34m,\u001b[0m \u001b[0mmode\u001b[0m\u001b[0;34m,\u001b[0m \u001b[0mencoding\u001b[0m\u001b[0;34m=\u001b[0m\u001b[0mencoding\u001b[0m\u001b[0;34m,\u001b[0m \u001b[0mnewline\u001b[0m\u001b[0;34m=\u001b[0m\u001b[0;34m\"\"\u001b[0m\u001b[0;34m)\u001b[0m\u001b[0;34m\u001b[0m\u001b[0;34m\u001b[0m\u001b[0m\n\u001b[0m\u001b[1;32m    429\u001b[0m         \u001b[0;32melif\u001b[0m \u001b[0mis_text\u001b[0m\u001b[0;34m:\u001b[0m\u001b[0;34m\u001b[0m\u001b[0;34m\u001b[0m\u001b[0m\n\u001b[1;32m    430\u001b[0m             \u001b[0;31m# No explicit encoding\u001b[0m\u001b[0;34m\u001b[0m\u001b[0;34m\u001b[0m\u001b[0;34m\u001b[0m\u001b[0m\n",
      "\u001b[0;31mFileNotFoundError\u001b[0m: [Errno 2] No such file or directory: 'Movie_Data/netflix.csv'"
     ]
    }
   ],
   "source": [
    "netflix_df.to_csv('Movie_Data/netflix.csv', index=False)#exported CSV file."
   ]
  },
  {
   "cell_type": "code",
   "execution_count": 19,
   "metadata": {},
   "outputs": [
    {
     "name": "stdout",
     "output_type": "stream",
     "text": [
      "<class 'pandas.core.frame.DataFrame'>\n",
      "Int64Index: 3898 entries, 1 to 3898\n",
      "Data columns (total 10 columns):\n",
      " #   Column    Non-Null Count  Dtype \n",
      "---  ------    --------------  ----- \n",
      " 0   names     3898 non-null   object\n",
      " 1   time      3898 non-null   int64 \n",
      " 2   year      3898 non-null   object\n",
      " 3   genre     3898 non-null   object\n",
      " 4   director  3898 non-null   object\n",
      " 5   actors    3898 non-null   object\n",
      " 6   country   3898 non-null   object\n",
      " 7   rating    3898 non-null   object\n",
      " 8   netflix   3898 non-null   object\n",
      " 9   enter_in  3898 non-null   object\n",
      "dtypes: int64(1), object(9)\n",
      "memory usage: 335.0+ KB\n"
     ]
    }
   ],
   "source": [
    "netflix_df.info()"
   ]
  },
  {
   "cell_type": "code",
   "execution_count": null,
   "metadata": {},
   "outputs": [],
   "source": []
  }
 ],
 "metadata": {
  "kernelspec": {
   "display_name": "Python 3",
   "language": "python",
   "name": "python3"
  },
  "language_info": {
   "codemirror_mode": {
    "name": "ipython",
    "version": 3
   },
   "file_extension": ".py",
   "mimetype": "text/x-python",
   "name": "python",
   "nbconvert_exporter": "python",
   "pygments_lexer": "ipython3",
   "version": "3.7.6"
  }
 },
 "nbformat": 4,
 "nbformat_minor": 4
}
